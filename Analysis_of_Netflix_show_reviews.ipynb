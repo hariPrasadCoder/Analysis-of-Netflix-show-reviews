{
  "nbformat": 4,
  "nbformat_minor": 0,
  "metadata": {
    "colab": {
      "name": "Analysis of Netflix show reviews.ipynb",
      "provenance": [],
      "authorship_tag": "ABX9TyPQGf02xARjlnAC1URR4fZF",
      "include_colab_link": true
    },
    "kernelspec": {
      "name": "python3",
      "display_name": "Python 3"
    },
    "language_info": {
      "name": "python"
    }
  },
  "cells": [
    {
      "cell_type": "markdown",
      "metadata": {
        "id": "view-in-github",
        "colab_type": "text"
      },
      "source": [
        "<a href=\"https://colab.research.google.com/github/hariPrasadCoder/Analysis-of-Netflix-show-reviews/blob/main/Analysis_of_Netflix_show_reviews.ipynb\" target=\"_parent\"><img src=\"https://colab.research.google.com/assets/colab-badge.svg\" alt=\"Open In Colab\"/></a>"
      ]
    },
    {
      "cell_type": "markdown",
      "metadata": {
        "id": "gTNXeaqkYlI-"
      },
      "source": [
        "## ANALYSIS OF NETFLIX SHOW REVIEWS:"
      ]
    },
    {
      "cell_type": "code",
      "metadata": {
        "id": "B0qvph6KMosC"
      },
      "source": [
        "import pandas as pd\n",
        "import numpy as np\n",
        "import matplotlib.pyplot as plt\n",
        "%matplotlib inline\n",
        "import seaborn as sns"
      ],
      "execution_count": 47,
      "outputs": []
    },
    {
      "cell_type": "code",
      "metadata": {
        "colab": {
          "base_uri": "https://localhost:8080/",
          "height": 522
        },
        "id": "0_-rdlZwNi6K",
        "outputId": "3be9816b-20bb-4dc2-8a6d-267b38e0759f"
      },
      "source": [
        "df = pd.read_csv('netflix-rotten-tomatoes-metacritic-imdb.csv')\n",
        "df.head(4)"
      ],
      "execution_count": 48,
      "outputs": [
        {
          "output_type": "execute_result",
          "data": {
            "text/html": [
              "<div>\n",
              "<style scoped>\n",
              "    .dataframe tbody tr th:only-of-type {\n",
              "        vertical-align: middle;\n",
              "    }\n",
              "\n",
              "    .dataframe tbody tr th {\n",
              "        vertical-align: top;\n",
              "    }\n",
              "\n",
              "    .dataframe thead th {\n",
              "        text-align: right;\n",
              "    }\n",
              "</style>\n",
              "<table border=\"1\" class=\"dataframe\">\n",
              "  <thead>\n",
              "    <tr style=\"text-align: right;\">\n",
              "      <th></th>\n",
              "      <th>Title</th>\n",
              "      <th>Genre</th>\n",
              "      <th>Tags</th>\n",
              "      <th>Languages</th>\n",
              "      <th>Series or Movie</th>\n",
              "      <th>Hidden Gem Score</th>\n",
              "      <th>Country Availability</th>\n",
              "      <th>Runtime</th>\n",
              "      <th>Director</th>\n",
              "      <th>Writer</th>\n",
              "      <th>Actors</th>\n",
              "      <th>View Rating</th>\n",
              "      <th>IMDb Score</th>\n",
              "      <th>Rotten Tomatoes Score</th>\n",
              "      <th>Metacritic Score</th>\n",
              "      <th>Awards Received</th>\n",
              "      <th>Awards Nominated For</th>\n",
              "      <th>Boxoffice</th>\n",
              "      <th>Release Date</th>\n",
              "      <th>Netflix Release Date</th>\n",
              "      <th>Production House</th>\n",
              "      <th>Netflix Link</th>\n",
              "      <th>IMDb Link</th>\n",
              "      <th>Summary</th>\n",
              "      <th>IMDb Votes</th>\n",
              "      <th>Image</th>\n",
              "      <th>Poster</th>\n",
              "      <th>TMDb Trailer</th>\n",
              "      <th>Trailer Site</th>\n",
              "    </tr>\n",
              "  </thead>\n",
              "  <tbody>\n",
              "    <tr>\n",
              "      <th>0</th>\n",
              "      <td>Lets Fight Ghost</td>\n",
              "      <td>Crime, Drama, Fantasy, Horror, Romance</td>\n",
              "      <td>Comedy Programmes,Romantic TV Comedies,Horror ...</td>\n",
              "      <td>Swedish, Spanish</td>\n",
              "      <td>Series</td>\n",
              "      <td>4.3</td>\n",
              "      <td>Thailand</td>\n",
              "      <td>&lt; 30 minutes</td>\n",
              "      <td>Tomas Alfredson</td>\n",
              "      <td>John Ajvide Lindqvist</td>\n",
              "      <td>Kåre Hedebrant, Per Ragnar, Lina Leandersson, ...</td>\n",
              "      <td>R</td>\n",
              "      <td>7.9</td>\n",
              "      <td>98.0</td>\n",
              "      <td>82.0</td>\n",
              "      <td>74.0</td>\n",
              "      <td>57.0</td>\n",
              "      <td>$2,122,065</td>\n",
              "      <td>12 Dec 2008</td>\n",
              "      <td>2021-03-04</td>\n",
              "      <td>Canal+, Sandrew Metronome</td>\n",
              "      <td>https://www.netflix.com/watch/81415947</td>\n",
              "      <td>https://www.imdb.com/title/tt1139797</td>\n",
              "      <td>A med student with a supernatural gift tries t...</td>\n",
              "      <td>205926.0</td>\n",
              "      <td>https://occ-0-4708-64.1.nflxso.net/dnm/api/v6/...</td>\n",
              "      <td>https://m.media-amazon.com/images/M/MV5BOWM4NT...</td>\n",
              "      <td>NaN</td>\n",
              "      <td>NaN</td>\n",
              "    </tr>\n",
              "    <tr>\n",
              "      <th>1</th>\n",
              "      <td>HOW TO BUILD A GIRL</td>\n",
              "      <td>Comedy</td>\n",
              "      <td>Dramas,Comedies,Films Based on Books,British</td>\n",
              "      <td>English</td>\n",
              "      <td>Movie</td>\n",
              "      <td>7.0</td>\n",
              "      <td>Canada</td>\n",
              "      <td>1-2 hour</td>\n",
              "      <td>Coky Giedroyc</td>\n",
              "      <td>Caitlin Moran</td>\n",
              "      <td>Paddy Considine, Cleo, Beanie Feldstein, Dónal...</td>\n",
              "      <td>R</td>\n",
              "      <td>5.8</td>\n",
              "      <td>79.0</td>\n",
              "      <td>69.0</td>\n",
              "      <td>1.0</td>\n",
              "      <td>NaN</td>\n",
              "      <td>$70,632</td>\n",
              "      <td>08 May 2020</td>\n",
              "      <td>2021-03-04</td>\n",
              "      <td>Film 4, Monumental Pictures, Lionsgate</td>\n",
              "      <td>https://www.netflix.com/watch/81041267</td>\n",
              "      <td>https://www.imdb.com/title/tt4193072</td>\n",
              "      <td>When nerdy Johanna moves to London, things get...</td>\n",
              "      <td>2838.0</td>\n",
              "      <td>https://occ-0-1081-999.1.nflxso.net/dnm/api/v6...</td>\n",
              "      <td>https://m.media-amazon.com/images/M/MV5BZGUyN2...</td>\n",
              "      <td>https://www.youtube.com/watch?v=eIbcxPy4okQ</td>\n",
              "      <td>YouTube</td>\n",
              "    </tr>\n",
              "    <tr>\n",
              "      <th>2</th>\n",
              "      <td>Centigrade</td>\n",
              "      <td>Drama, Thriller</td>\n",
              "      <td>Thrillers</td>\n",
              "      <td>English</td>\n",
              "      <td>Movie</td>\n",
              "      <td>6.4</td>\n",
              "      <td>Canada</td>\n",
              "      <td>1-2 hour</td>\n",
              "      <td>Brendan Walsh</td>\n",
              "      <td>Brendan Walsh, Daley Nixon</td>\n",
              "      <td>Genesis Rodriguez, Vincent Piazza</td>\n",
              "      <td>Unrated</td>\n",
              "      <td>4.3</td>\n",
              "      <td>NaN</td>\n",
              "      <td>46.0</td>\n",
              "      <td>NaN</td>\n",
              "      <td>NaN</td>\n",
              "      <td>$16,263</td>\n",
              "      <td>28 Aug 2020</td>\n",
              "      <td>2021-03-04</td>\n",
              "      <td>NaN</td>\n",
              "      <td>https://www.netflix.com/watch/81305978</td>\n",
              "      <td>https://www.imdb.com/title/tt8945942</td>\n",
              "      <td>Trapped in a frozen car during a blizzard, a p...</td>\n",
              "      <td>1720.0</td>\n",
              "      <td>https://occ-0-1081-999.1.nflxso.net/dnm/api/v6...</td>\n",
              "      <td>https://m.media-amazon.com/images/M/MV5BODM2MD...</td>\n",
              "      <td>https://www.youtube.com/watch?v=0RvV7TNUlkQ</td>\n",
              "      <td>YouTube</td>\n",
              "    </tr>\n",
              "    <tr>\n",
              "      <th>3</th>\n",
              "      <td>ANNE+</td>\n",
              "      <td>Drama</td>\n",
              "      <td>TV Dramas,Romantic TV Dramas,Dutch TV Shows</td>\n",
              "      <td>Turkish</td>\n",
              "      <td>Series</td>\n",
              "      <td>7.7</td>\n",
              "      <td>Belgium,Netherlands</td>\n",
              "      <td>&lt; 30 minutes</td>\n",
              "      <td>NaN</td>\n",
              "      <td>NaN</td>\n",
              "      <td>Vahide Perçin, Gonca Vuslateri, Cansu Dere, Be...</td>\n",
              "      <td>NaN</td>\n",
              "      <td>6.5</td>\n",
              "      <td>NaN</td>\n",
              "      <td>NaN</td>\n",
              "      <td>1.0</td>\n",
              "      <td>NaN</td>\n",
              "      <td>NaN</td>\n",
              "      <td>01 Oct 2016</td>\n",
              "      <td>2021-03-04</td>\n",
              "      <td>NaN</td>\n",
              "      <td>https://www.netflix.com/watch/81336456</td>\n",
              "      <td>https://www.imdb.com/title/tt6132758</td>\n",
              "      <td>Upon moving into a new place, a 20-something r...</td>\n",
              "      <td>1147.0</td>\n",
              "      <td>https://occ-0-1489-1490.1.nflxso.net/dnm/api/v...</td>\n",
              "      <td>https://m.media-amazon.com/images/M/MV5BNWRkMz...</td>\n",
              "      <td>NaN</td>\n",
              "      <td>NaN</td>\n",
              "    </tr>\n",
              "  </tbody>\n",
              "</table>\n",
              "</div>"
            ],
            "text/plain": [
              "                 Title  ... Trailer Site\n",
              "0     Lets Fight Ghost  ...          NaN\n",
              "1  HOW TO BUILD A GIRL  ...      YouTube\n",
              "2           Centigrade  ...      YouTube\n",
              "3                ANNE+  ...          NaN\n",
              "\n",
              "[4 rows x 29 columns]"
            ]
          },
          "metadata": {
            "tags": []
          },
          "execution_count": 48
        }
      ]
    },
    {
      "cell_type": "code",
      "metadata": {
        "colab": {
          "base_uri": "https://localhost:8080/",
          "height": 505
        },
        "id": "pfuij8r9NvnN",
        "outputId": "062b4a71-a2c5-430d-c8fa-85d846888bf5"
      },
      "source": [
        "df = df.drop(['Tags','Netflix Link','IMDb Link','Summary','Image','Poster','TMDb Trailer','Trailer Site'],axis=1)\n",
        "df.head(4)"
      ],
      "execution_count": 49,
      "outputs": [
        {
          "output_type": "execute_result",
          "data": {
            "text/html": [
              "<div>\n",
              "<style scoped>\n",
              "    .dataframe tbody tr th:only-of-type {\n",
              "        vertical-align: middle;\n",
              "    }\n",
              "\n",
              "    .dataframe tbody tr th {\n",
              "        vertical-align: top;\n",
              "    }\n",
              "\n",
              "    .dataframe thead th {\n",
              "        text-align: right;\n",
              "    }\n",
              "</style>\n",
              "<table border=\"1\" class=\"dataframe\">\n",
              "  <thead>\n",
              "    <tr style=\"text-align: right;\">\n",
              "      <th></th>\n",
              "      <th>Title</th>\n",
              "      <th>Genre</th>\n",
              "      <th>Languages</th>\n",
              "      <th>Series or Movie</th>\n",
              "      <th>Hidden Gem Score</th>\n",
              "      <th>Country Availability</th>\n",
              "      <th>Runtime</th>\n",
              "      <th>Director</th>\n",
              "      <th>Writer</th>\n",
              "      <th>Actors</th>\n",
              "      <th>View Rating</th>\n",
              "      <th>IMDb Score</th>\n",
              "      <th>Rotten Tomatoes Score</th>\n",
              "      <th>Metacritic Score</th>\n",
              "      <th>Awards Received</th>\n",
              "      <th>Awards Nominated For</th>\n",
              "      <th>Boxoffice</th>\n",
              "      <th>Release Date</th>\n",
              "      <th>Netflix Release Date</th>\n",
              "      <th>Production House</th>\n",
              "      <th>IMDb Votes</th>\n",
              "    </tr>\n",
              "  </thead>\n",
              "  <tbody>\n",
              "    <tr>\n",
              "      <th>0</th>\n",
              "      <td>Lets Fight Ghost</td>\n",
              "      <td>Crime, Drama, Fantasy, Horror, Romance</td>\n",
              "      <td>Swedish, Spanish</td>\n",
              "      <td>Series</td>\n",
              "      <td>4.3</td>\n",
              "      <td>Thailand</td>\n",
              "      <td>&lt; 30 minutes</td>\n",
              "      <td>Tomas Alfredson</td>\n",
              "      <td>John Ajvide Lindqvist</td>\n",
              "      <td>Kåre Hedebrant, Per Ragnar, Lina Leandersson, ...</td>\n",
              "      <td>R</td>\n",
              "      <td>7.9</td>\n",
              "      <td>98.0</td>\n",
              "      <td>82.0</td>\n",
              "      <td>74.0</td>\n",
              "      <td>57.0</td>\n",
              "      <td>$2,122,065</td>\n",
              "      <td>12 Dec 2008</td>\n",
              "      <td>2021-03-04</td>\n",
              "      <td>Canal+, Sandrew Metronome</td>\n",
              "      <td>205926.0</td>\n",
              "    </tr>\n",
              "    <tr>\n",
              "      <th>1</th>\n",
              "      <td>HOW TO BUILD A GIRL</td>\n",
              "      <td>Comedy</td>\n",
              "      <td>English</td>\n",
              "      <td>Movie</td>\n",
              "      <td>7.0</td>\n",
              "      <td>Canada</td>\n",
              "      <td>1-2 hour</td>\n",
              "      <td>Coky Giedroyc</td>\n",
              "      <td>Caitlin Moran</td>\n",
              "      <td>Paddy Considine, Cleo, Beanie Feldstein, Dónal...</td>\n",
              "      <td>R</td>\n",
              "      <td>5.8</td>\n",
              "      <td>79.0</td>\n",
              "      <td>69.0</td>\n",
              "      <td>1.0</td>\n",
              "      <td>NaN</td>\n",
              "      <td>$70,632</td>\n",
              "      <td>08 May 2020</td>\n",
              "      <td>2021-03-04</td>\n",
              "      <td>Film 4, Monumental Pictures, Lionsgate</td>\n",
              "      <td>2838.0</td>\n",
              "    </tr>\n",
              "    <tr>\n",
              "      <th>2</th>\n",
              "      <td>Centigrade</td>\n",
              "      <td>Drama, Thriller</td>\n",
              "      <td>English</td>\n",
              "      <td>Movie</td>\n",
              "      <td>6.4</td>\n",
              "      <td>Canada</td>\n",
              "      <td>1-2 hour</td>\n",
              "      <td>Brendan Walsh</td>\n",
              "      <td>Brendan Walsh, Daley Nixon</td>\n",
              "      <td>Genesis Rodriguez, Vincent Piazza</td>\n",
              "      <td>Unrated</td>\n",
              "      <td>4.3</td>\n",
              "      <td>NaN</td>\n",
              "      <td>46.0</td>\n",
              "      <td>NaN</td>\n",
              "      <td>NaN</td>\n",
              "      <td>$16,263</td>\n",
              "      <td>28 Aug 2020</td>\n",
              "      <td>2021-03-04</td>\n",
              "      <td>NaN</td>\n",
              "      <td>1720.0</td>\n",
              "    </tr>\n",
              "    <tr>\n",
              "      <th>3</th>\n",
              "      <td>ANNE+</td>\n",
              "      <td>Drama</td>\n",
              "      <td>Turkish</td>\n",
              "      <td>Series</td>\n",
              "      <td>7.7</td>\n",
              "      <td>Belgium,Netherlands</td>\n",
              "      <td>&lt; 30 minutes</td>\n",
              "      <td>NaN</td>\n",
              "      <td>NaN</td>\n",
              "      <td>Vahide Perçin, Gonca Vuslateri, Cansu Dere, Be...</td>\n",
              "      <td>NaN</td>\n",
              "      <td>6.5</td>\n",
              "      <td>NaN</td>\n",
              "      <td>NaN</td>\n",
              "      <td>1.0</td>\n",
              "      <td>NaN</td>\n",
              "      <td>NaN</td>\n",
              "      <td>01 Oct 2016</td>\n",
              "      <td>2021-03-04</td>\n",
              "      <td>NaN</td>\n",
              "      <td>1147.0</td>\n",
              "    </tr>\n",
              "  </tbody>\n",
              "</table>\n",
              "</div>"
            ],
            "text/plain": [
              "                 Title  ... IMDb Votes\n",
              "0     Lets Fight Ghost  ...   205926.0\n",
              "1  HOW TO BUILD A GIRL  ...     2838.0\n",
              "2           Centigrade  ...     1720.0\n",
              "3                ANNE+  ...     1147.0\n",
              "\n",
              "[4 rows x 21 columns]"
            ]
          },
          "metadata": {
            "tags": []
          },
          "execution_count": 49
        }
      ]
    },
    {
      "cell_type": "markdown",
      "metadata": {
        "id": "BMEINmPfWPtU"
      },
      "source": [
        "## 1. Top 10 movies based on each score:"
      ]
    },
    {
      "cell_type": "code",
      "metadata": {
        "colab": {
          "base_uri": "https://localhost:8080/",
          "height": 343
        },
        "id": "4MvKyJ3vs_6l",
        "outputId": "a1fea6f1-a6fd-4727-9f3c-31ca5096caa7"
      },
      "source": [
        "df[['Title','IMDb Score']].sort_values(by='IMDb Score', ascending = False).head(10)"
      ],
      "execution_count": 50,
      "outputs": [
        {
          "output_type": "execute_result",
          "data": {
            "text/html": [
              "<div>\n",
              "<style scoped>\n",
              "    .dataframe tbody tr th:only-of-type {\n",
              "        vertical-align: middle;\n",
              "    }\n",
              "\n",
              "    .dataframe tbody tr th {\n",
              "        vertical-align: top;\n",
              "    }\n",
              "\n",
              "    .dataframe thead th {\n",
              "        text-align: right;\n",
              "    }\n",
              "</style>\n",
              "<table border=\"1\" class=\"dataframe\">\n",
              "  <thead>\n",
              "    <tr style=\"text-align: right;\">\n",
              "      <th></th>\n",
              "      <th>Title</th>\n",
              "      <th>IMDb Score</th>\n",
              "    </tr>\n",
              "  </thead>\n",
              "  <tbody>\n",
              "    <tr>\n",
              "      <th>293</th>\n",
              "      <td>No Festival</td>\n",
              "      <td>9.7</td>\n",
              "    </tr>\n",
              "    <tr>\n",
              "      <th>15406</th>\n",
              "      <td>Breaking Bad</td>\n",
              "      <td>9.5</td>\n",
              "    </tr>\n",
              "    <tr>\n",
              "      <th>15314</th>\n",
              "      <td>Horsin Around</td>\n",
              "      <td>9.5</td>\n",
              "    </tr>\n",
              "    <tr>\n",
              "      <th>2906</th>\n",
              "      <td>Flavours of Romania</td>\n",
              "      <td>9.5</td>\n",
              "    </tr>\n",
              "    <tr>\n",
              "      <th>205</th>\n",
              "      <td>The Dream House</td>\n",
              "      <td>9.4</td>\n",
              "    </tr>\n",
              "    <tr>\n",
              "      <th>5873</th>\n",
              "      <td>Our Planet</td>\n",
              "      <td>9.3</td>\n",
              "    </tr>\n",
              "    <tr>\n",
              "      <th>14621</th>\n",
              "      <td>The Shawshank Redemption</td>\n",
              "      <td>9.3</td>\n",
              "    </tr>\n",
              "    <tr>\n",
              "      <th>15389</th>\n",
              "      <td>Avatar: The Last Airbender</td>\n",
              "      <td>9.2</td>\n",
              "    </tr>\n",
              "    <tr>\n",
              "      <th>11425</th>\n",
              "      <td>Rick and Morty</td>\n",
              "      <td>9.2</td>\n",
              "    </tr>\n",
              "    <tr>\n",
              "      <th>7176</th>\n",
              "      <td>Conspiracy</td>\n",
              "      <td>9.2</td>\n",
              "    </tr>\n",
              "  </tbody>\n",
              "</table>\n",
              "</div>"
            ],
            "text/plain": [
              "                            Title  IMDb Score\n",
              "293                   No Festival         9.7\n",
              "15406                Breaking Bad         9.5\n",
              "15314               Horsin Around         9.5\n",
              "2906          Flavours of Romania         9.5\n",
              "205               The Dream House         9.4\n",
              "5873                   Our Planet         9.3\n",
              "14621    The Shawshank Redemption         9.3\n",
              "15389  Avatar: The Last Airbender         9.2\n",
              "11425              Rick and Morty         9.2\n",
              "7176                   Conspiracy         9.2"
            ]
          },
          "metadata": {
            "tags": []
          },
          "execution_count": 50
        }
      ]
    },
    {
      "cell_type": "code",
      "metadata": {
        "colab": {
          "base_uri": "https://localhost:8080/",
          "height": 343
        },
        "id": "DlWaMhs8trin",
        "outputId": "06a15ca2-1242-4117-b70a-3cd32c4cf30b"
      },
      "source": [
        "df[['Title','Hidden Gem Score']].sort_values(by='Hidden Gem Score', ascending = False).head(10)"
      ],
      "execution_count": 51,
      "outputs": [
        {
          "output_type": "execute_result",
          "data": {
            "text/html": [
              "<div>\n",
              "<style scoped>\n",
              "    .dataframe tbody tr th:only-of-type {\n",
              "        vertical-align: middle;\n",
              "    }\n",
              "\n",
              "    .dataframe tbody tr th {\n",
              "        vertical-align: top;\n",
              "    }\n",
              "\n",
              "    .dataframe thead th {\n",
              "        text-align: right;\n",
              "    }\n",
              "</style>\n",
              "<table border=\"1\" class=\"dataframe\">\n",
              "  <thead>\n",
              "    <tr style=\"text-align: right;\">\n",
              "      <th></th>\n",
              "      <th>Title</th>\n",
              "      <th>Hidden Gem Score</th>\n",
              "    </tr>\n",
              "  </thead>\n",
              "  <tbody>\n",
              "    <tr>\n",
              "      <th>293</th>\n",
              "      <td>No Festival</td>\n",
              "      <td>9.8</td>\n",
              "    </tr>\n",
              "    <tr>\n",
              "      <th>15314</th>\n",
              "      <td>Horsin Around</td>\n",
              "      <td>9.7</td>\n",
              "    </tr>\n",
              "    <tr>\n",
              "      <th>205</th>\n",
              "      <td>The Dream House</td>\n",
              "      <td>9.7</td>\n",
              "    </tr>\n",
              "    <tr>\n",
              "      <th>7176</th>\n",
              "      <td>Conspiracy</td>\n",
              "      <td>9.6</td>\n",
              "    </tr>\n",
              "    <tr>\n",
              "      <th>1137</th>\n",
              "      <td>A Lion in the House</td>\n",
              "      <td>9.6</td>\n",
              "    </tr>\n",
              "    <tr>\n",
              "      <th>7170</th>\n",
              "      <td>Im Sorry</td>\n",
              "      <td>9.6</td>\n",
              "    </tr>\n",
              "    <tr>\n",
              "      <th>2906</th>\n",
              "      <td>Flavours of Romania</td>\n",
              "      <td>9.6</td>\n",
              "    </tr>\n",
              "    <tr>\n",
              "      <th>3276</th>\n",
              "      <td>Bye Bye London</td>\n",
              "      <td>9.5</td>\n",
              "    </tr>\n",
              "    <tr>\n",
              "      <th>5178</th>\n",
              "      <td>Regiment Diaries</td>\n",
              "      <td>9.5</td>\n",
              "    </tr>\n",
              "    <tr>\n",
              "      <th>3260</th>\n",
              "      <td>Numberblocks</td>\n",
              "      <td>9.5</td>\n",
              "    </tr>\n",
              "  </tbody>\n",
              "</table>\n",
              "</div>"
            ],
            "text/plain": [
              "                     Title  Hidden Gem Score\n",
              "293            No Festival               9.8\n",
              "15314        Horsin Around               9.7\n",
              "205        The Dream House               9.7\n",
              "7176            Conspiracy               9.6\n",
              "1137   A Lion in the House               9.6\n",
              "7170              Im Sorry               9.6\n",
              "2906   Flavours of Romania               9.6\n",
              "3276        Bye Bye London               9.5\n",
              "5178      Regiment Diaries               9.5\n",
              "3260          Numberblocks               9.5"
            ]
          },
          "metadata": {
            "tags": []
          },
          "execution_count": 51
        }
      ]
    },
    {
      "cell_type": "code",
      "metadata": {
        "colab": {
          "base_uri": "https://localhost:8080/",
          "height": 343
        },
        "id": "_49RoRelt3ob",
        "outputId": "22356c5e-94ad-4e46-bd6b-8ea19bc51308"
      },
      "source": [
        "df[['Title','Rotten Tomatoes Score']].sort_values(by='Rotten Tomatoes Score', ascending = False).head(10)"
      ],
      "execution_count": 52,
      "outputs": [
        {
          "output_type": "execute_result",
          "data": {
            "text/html": [
              "<div>\n",
              "<style scoped>\n",
              "    .dataframe tbody tr th:only-of-type {\n",
              "        vertical-align: middle;\n",
              "    }\n",
              "\n",
              "    .dataframe tbody tr th {\n",
              "        vertical-align: top;\n",
              "    }\n",
              "\n",
              "    .dataframe thead th {\n",
              "        text-align: right;\n",
              "    }\n",
              "</style>\n",
              "<table border=\"1\" class=\"dataframe\">\n",
              "  <thead>\n",
              "    <tr style=\"text-align: right;\">\n",
              "      <th></th>\n",
              "      <th>Title</th>\n",
              "      <th>Rotten Tomatoes Score</th>\n",
              "    </tr>\n",
              "  </thead>\n",
              "  <tbody>\n",
              "    <tr>\n",
              "      <th>10503</th>\n",
              "      <td>7:19</td>\n",
              "      <td>100.0</td>\n",
              "    </tr>\n",
              "    <tr>\n",
              "      <th>9515</th>\n",
              "      <td>The Beast Stalker</td>\n",
              "      <td>100.0</td>\n",
              "    </tr>\n",
              "    <tr>\n",
              "      <th>9194</th>\n",
              "      <td>Mr. Roosevelt</td>\n",
              "      <td>100.0</td>\n",
              "    </tr>\n",
              "    <tr>\n",
              "      <th>9199</th>\n",
              "      <td>Creep 2</td>\n",
              "      <td>100.0</td>\n",
              "    </tr>\n",
              "    <tr>\n",
              "      <th>9265</th>\n",
              "      <td>Cool Hand Luke</td>\n",
              "      <td>100.0</td>\n",
              "    </tr>\n",
              "    <tr>\n",
              "      <th>9273</th>\n",
              "      <td>Law of Desire</td>\n",
              "      <td>100.0</td>\n",
              "    </tr>\n",
              "    <tr>\n",
              "      <th>9287</th>\n",
              "      <td>Cuba and the Cameraman</td>\n",
              "      <td>100.0</td>\n",
              "    </tr>\n",
              "    <tr>\n",
              "      <th>9294</th>\n",
              "      <td>Saving Capitalism</td>\n",
              "      <td>100.0</td>\n",
              "    </tr>\n",
              "    <tr>\n",
              "      <th>1910</th>\n",
              "      <td>A Dogs Journey</td>\n",
              "      <td>100.0</td>\n",
              "    </tr>\n",
              "    <tr>\n",
              "      <th>9391</th>\n",
              "      <td>Patton Oswalt: Annihilation</td>\n",
              "      <td>100.0</td>\n",
              "    </tr>\n",
              "  </tbody>\n",
              "</table>\n",
              "</div>"
            ],
            "text/plain": [
              "                             Title  Rotten Tomatoes Score\n",
              "10503                         7:19                  100.0\n",
              "9515             The Beast Stalker                  100.0\n",
              "9194                 Mr. Roosevelt                  100.0\n",
              "9199                       Creep 2                  100.0\n",
              "9265                Cool Hand Luke                  100.0\n",
              "9273                 Law of Desire                  100.0\n",
              "9287        Cuba and the Cameraman                  100.0\n",
              "9294             Saving Capitalism                  100.0\n",
              "1910                A Dogs Journey                  100.0\n",
              "9391   Patton Oswalt: Annihilation                  100.0"
            ]
          },
          "metadata": {
            "tags": []
          },
          "execution_count": 52
        }
      ]
    },
    {
      "cell_type": "code",
      "metadata": {
        "colab": {
          "base_uri": "https://localhost:8080/",
          "height": 343
        },
        "id": "Al2Sia2CvDV4",
        "outputId": "036f63c8-37f6-48fd-f4a5-8d8a3f5b9c62"
      },
      "source": [
        "df[['Title','Metacritic Score']].sort_values(by='Metacritic Score', ascending = False).head(10)"
      ],
      "execution_count": 53,
      "outputs": [
        {
          "output_type": "execute_result",
          "data": {
            "text/html": [
              "<div>\n",
              "<style scoped>\n",
              "    .dataframe tbody tr th:only-of-type {\n",
              "        vertical-align: middle;\n",
              "    }\n",
              "\n",
              "    .dataframe tbody tr th {\n",
              "        vertical-align: top;\n",
              "    }\n",
              "\n",
              "    .dataframe thead th {\n",
              "        text-align: right;\n",
              "    }\n",
              "</style>\n",
              "<table border=\"1\" class=\"dataframe\">\n",
              "  <thead>\n",
              "    <tr style=\"text-align: right;\">\n",
              "      <th></th>\n",
              "      <th>Title</th>\n",
              "      <th>Metacritic Score</th>\n",
              "    </tr>\n",
              "  </thead>\n",
              "  <tbody>\n",
              "    <tr>\n",
              "      <th>12177</th>\n",
              "      <td>Lawrence of Arabia: Restored Version</td>\n",
              "      <td>100.0</td>\n",
              "    </tr>\n",
              "    <tr>\n",
              "      <th>14696</th>\n",
              "      <td>The Godfather</td>\n",
              "      <td>100.0</td>\n",
              "    </tr>\n",
              "    <tr>\n",
              "      <th>14142</th>\n",
              "      <td>Trois Couleurs - Rouge</td>\n",
              "      <td>100.0</td>\n",
              "    </tr>\n",
              "    <tr>\n",
              "      <th>9913</th>\n",
              "      <td>Moonlight</td>\n",
              "      <td>99.0</td>\n",
              "    </tr>\n",
              "    <tr>\n",
              "      <th>3362</th>\n",
              "      <td>City Lights</td>\n",
              "      <td>99.0</td>\n",
              "    </tr>\n",
              "    <tr>\n",
              "      <th>9938</th>\n",
              "      <td>Pinocchio</td>\n",
              "      <td>99.0</td>\n",
              "    </tr>\n",
              "    <tr>\n",
              "      <th>11980</th>\n",
              "      <td>Rashomon</td>\n",
              "      <td>98.0</td>\n",
              "    </tr>\n",
              "    <tr>\n",
              "      <th>15141</th>\n",
              "      <td>Pans Labyrinth</td>\n",
              "      <td>98.0</td>\n",
              "    </tr>\n",
              "    <tr>\n",
              "      <th>11633</th>\n",
              "      <td>Gone with the Wind</td>\n",
              "      <td>97.0</td>\n",
              "    </tr>\n",
              "    <tr>\n",
              "      <th>9264</th>\n",
              "      <td>American Graffiti</td>\n",
              "      <td>97.0</td>\n",
              "    </tr>\n",
              "  </tbody>\n",
              "</table>\n",
              "</div>"
            ],
            "text/plain": [
              "                                      Title  Metacritic Score\n",
              "12177  Lawrence of Arabia: Restored Version             100.0\n",
              "14696                         The Godfather             100.0\n",
              "14142                Trois Couleurs - Rouge             100.0\n",
              "9913                              Moonlight              99.0\n",
              "3362                            City Lights              99.0\n",
              "9938                              Pinocchio              99.0\n",
              "11980                              Rashomon              98.0\n",
              "15141                        Pans Labyrinth              98.0\n",
              "11633                    Gone with the Wind              97.0\n",
              "9264                      American Graffiti              97.0"
            ]
          },
          "metadata": {
            "tags": []
          },
          "execution_count": 53
        }
      ]
    },
    {
      "cell_type": "markdown",
      "metadata": {
        "id": "Q20hKYy8W35F"
      },
      "source": [
        "## 2. Top 10 movies based on overall score:"
      ]
    },
    {
      "cell_type": "code",
      "metadata": {
        "colab": {
          "base_uri": "https://localhost:8080/",
          "height": 343
        },
        "id": "ba83wvqgva4V",
        "outputId": "f0e47470-b8cc-4f21-a404-d6891a63b964"
      },
      "source": [
        "df['Overall Score'] = df['Metacritic Score'] + df['Rotten Tomatoes Score'] + df['Hidden Gem Score'] + df['IMDb Score']\n",
        "df[['Title','Overall Score']].sort_values(by='Overall Score', ascending = False).head(10)"
      ],
      "execution_count": 54,
      "outputs": [
        {
          "output_type": "execute_result",
          "data": {
            "text/html": [
              "<div>\n",
              "<style scoped>\n",
              "    .dataframe tbody tr th:only-of-type {\n",
              "        vertical-align: middle;\n",
              "    }\n",
              "\n",
              "    .dataframe tbody tr th {\n",
              "        vertical-align: top;\n",
              "    }\n",
              "\n",
              "    .dataframe thead th {\n",
              "        text-align: right;\n",
              "    }\n",
              "</style>\n",
              "<table border=\"1\" class=\"dataframe\">\n",
              "  <thead>\n",
              "    <tr style=\"text-align: right;\">\n",
              "      <th></th>\n",
              "      <th>Title</th>\n",
              "      <th>Overall Score</th>\n",
              "    </tr>\n",
              "  </thead>\n",
              "  <tbody>\n",
              "    <tr>\n",
              "      <th>14142</th>\n",
              "      <td>Trois Couleurs - Rouge</td>\n",
              "      <td>212.8</td>\n",
              "    </tr>\n",
              "    <tr>\n",
              "      <th>14696</th>\n",
              "      <td>The Godfather</td>\n",
              "      <td>212.0</td>\n",
              "    </tr>\n",
              "    <tr>\n",
              "      <th>3362</th>\n",
              "      <td>City Lights</td>\n",
              "      <td>210.2</td>\n",
              "    </tr>\n",
              "    <tr>\n",
              "      <th>12177</th>\n",
              "      <td>Lawrence of Arabia: Restored Version</td>\n",
              "      <td>210.0</td>\n",
              "    </tr>\n",
              "    <tr>\n",
              "      <th>11976</th>\n",
              "      <td>Modern Times</td>\n",
              "      <td>209.2</td>\n",
              "    </tr>\n",
              "    <tr>\n",
              "      <th>9913</th>\n",
              "      <td>Moonlight</td>\n",
              "      <td>208.9</td>\n",
              "    </tr>\n",
              "    <tr>\n",
              "      <th>11980</th>\n",
              "      <td>Rashomon</td>\n",
              "      <td>208.8</td>\n",
              "    </tr>\n",
              "    <tr>\n",
              "      <th>14929</th>\n",
              "      <td>Virunga</td>\n",
              "      <td>207.8</td>\n",
              "    </tr>\n",
              "    <tr>\n",
              "      <th>1594</th>\n",
              "      <td>Parasite</td>\n",
              "      <td>207.3</td>\n",
              "    </tr>\n",
              "    <tr>\n",
              "      <th>9711</th>\n",
              "      <td>I Am Not Your Negro</td>\n",
              "      <td>206.4</td>\n",
              "    </tr>\n",
              "  </tbody>\n",
              "</table>\n",
              "</div>"
            ],
            "text/plain": [
              "                                      Title  Overall Score\n",
              "14142                Trois Couleurs - Rouge          212.8\n",
              "14696                         The Godfather          212.0\n",
              "3362                            City Lights          210.2\n",
              "12177  Lawrence of Arabia: Restored Version          210.0\n",
              "11976                          Modern Times          209.2\n",
              "9913                              Moonlight          208.9\n",
              "11980                              Rashomon          208.8\n",
              "14929                               Virunga          207.8\n",
              "1594                               Parasite          207.3\n",
              "9711                    I Am Not Your Negro          206.4"
            ]
          },
          "metadata": {
            "tags": []
          },
          "execution_count": 54
        }
      ]
    },
    {
      "cell_type": "markdown",
      "metadata": {
        "id": "iTiYjiYnYKP2"
      },
      "source": [
        "## 3. Number of movies in each rating category:"
      ]
    },
    {
      "cell_type": "code",
      "metadata": {
        "colab": {
          "base_uri": "https://localhost:8080/",
          "height": 335
        },
        "id": "NFfJeXr0x999",
        "outputId": "6758cdd1-56dd-4d16-ed97-b45196e9286d"
      },
      "source": [
        "df['View Rating'].value_counts().head(10).plot(kind = 'bar')\n",
        "plt.title('Number of movies in each rating category')\n",
        "plt.ylabel('Number of Movies')\n",
        "plt.xlabel('View Rating')\n",
        "plt.show()"
      ],
      "execution_count": 95,
      "outputs": [
        {
          "output_type": "display_data",
          "data": {
            "image/png": "[encoded data removed]",
            "text/plain": [
              "<Figure size 432x288 with 1 Axes>"
            ]
          },
          "metadata": {
            "tags": [],
            "needs_background": "light"
          }
        }
      ]
    },
    {
      "cell_type": "markdown",
      "metadata": {
        "id": "PK-vadQlY3CS"
      },
      "source": [
        "## 4. Top 10 movies based on awards received:"
      ]
    },
    {
      "cell_type": "code",
      "metadata": {
        "colab": {
          "base_uri": "https://localhost:8080/",
          "height": 343
        },
        "id": "gQ93R2pO2u6L",
        "outputId": "0fa0fa4d-a62f-4f50-8be9-613a83242358"
      },
      "source": [
        "df[['Title','Awards Received']].sort_values(by='Awards Received', ascending = False).head(10)"
      ],
      "execution_count": 56,
      "outputs": [
        {
          "output_type": "execute_result",
          "data": {
            "text/html": [
              "<div>\n",
              "<style scoped>\n",
              "    .dataframe tbody tr th:only-of-type {\n",
              "        vertical-align: middle;\n",
              "    }\n",
              "\n",
              "    .dataframe tbody tr th {\n",
              "        vertical-align: top;\n",
              "    }\n",
              "\n",
              "    .dataframe thead th {\n",
              "        text-align: right;\n",
              "    }\n",
              "</style>\n",
              "<table border=\"1\" class=\"dataframe\">\n",
              "  <thead>\n",
              "    <tr style=\"text-align: right;\">\n",
              "      <th></th>\n",
              "      <th>Title</th>\n",
              "      <th>Awards Received</th>\n",
              "    </tr>\n",
              "  </thead>\n",
              "  <tbody>\n",
              "    <tr>\n",
              "      <th>1594</th>\n",
              "      <td>Parasite</td>\n",
              "      <td>300.0</td>\n",
              "    </tr>\n",
              "    <tr>\n",
              "      <th>6598</th>\n",
              "      <td>ROMA</td>\n",
              "      <td>251.0</td>\n",
              "    </tr>\n",
              "    <tr>\n",
              "      <th>9325</th>\n",
              "      <td>La La Land</td>\n",
              "      <td>242.0</td>\n",
              "    </tr>\n",
              "    <tr>\n",
              "      <th>13550</th>\n",
              "      <td>12 Years a Slave</td>\n",
              "      <td>242.0</td>\n",
              "    </tr>\n",
              "    <tr>\n",
              "      <th>11423</th>\n",
              "      <td>Mad Max: Fury Road</td>\n",
              "      <td>241.0</td>\n",
              "    </tr>\n",
              "    <tr>\n",
              "      <th>13333</th>\n",
              "      <td>Gravity</td>\n",
              "      <td>239.0</td>\n",
              "    </tr>\n",
              "    <tr>\n",
              "      <th>326</th>\n",
              "      <td>Sesame Street</td>\n",
              "      <td>232.0</td>\n",
              "    </tr>\n",
              "    <tr>\n",
              "      <th>9913</th>\n",
              "      <td>Moonlight</td>\n",
              "      <td>229.0</td>\n",
              "    </tr>\n",
              "    <tr>\n",
              "      <th>15119</th>\n",
              "      <td>The Lord of the Rings: The Return of the King</td>\n",
              "      <td>210.0</td>\n",
              "    </tr>\n",
              "    <tr>\n",
              "      <th>12229</th>\n",
              "      <td>Birdman or (The Unexpected Virtue of Ignorance)</td>\n",
              "      <td>194.0</td>\n",
              "    </tr>\n",
              "  </tbody>\n",
              "</table>\n",
              "</div>"
            ],
            "text/plain": [
              "                                                 Title  Awards Received\n",
              "1594                                          Parasite            300.0\n",
              "6598                                              ROMA            251.0\n",
              "9325                                        La La Land            242.0\n",
              "13550                                 12 Years a Slave            242.0\n",
              "11423                               Mad Max: Fury Road            241.0\n",
              "13333                                          Gravity            239.0\n",
              "326                                      Sesame Street            232.0\n",
              "9913                                         Moonlight            229.0\n",
              "15119    The Lord of the Rings: The Return of the King            210.0\n",
              "12229  Birdman or (The Unexpected Virtue of Ignorance)            194.0"
            ]
          },
          "metadata": {
            "tags": []
          },
          "execution_count": 56
        }
      ]
    },
    {
      "cell_type": "markdown",
      "metadata": {
        "id": "dozavZ7qZFUc"
      },
      "source": [
        "## 5. Number of days a movie takes to come on Netflix:"
      ]
    },
    {
      "cell_type": "code",
      "metadata": {
        "colab": {
          "base_uri": "https://localhost:8080/"
        },
        "id": "jJT65yKQ6gxh",
        "outputId": "f452acba-81bc-4ba8-b5e2-a01ee87d0fd1"
      },
      "source": [
        "df1 = df.copy()\n",
        "df1['Release Date'] = df['Release Date'].dropna()\n",
        "df1['Netflix Release Date'] = df['Netflix Release Date'].dropna()\n",
        "\n",
        "df1['Release Date'] = pd.to_datetime(df1['Release Date'])\n",
        "df1['Netflix Release Date'] = pd.to_datetime(df1['Netflix Release Date'])\n",
        "\n",
        "df1['Number of days'] = df1['Netflix Release Date'] - df1['Release Date']\n",
        "med = df1['Number of days'].median()\n",
        "print(f'It takes a median of {med} for a movie to come on Netflix')"
      ],
      "execution_count": 57,
      "outputs": [
        {
          "output_type": "stream",
          "text": [
            "It takes a median of 760 days 00:00:00 for a movie to come on Netflix\n"
          ],
          "name": "stdout"
        }
      ]
    },
    {
      "cell_type": "markdown",
      "metadata": {
        "id": "v_83y1OuZYMX"
      },
      "source": [
        "## 6. Number of movies in each language:"
      ]
    },
    {
      "cell_type": "code",
      "metadata": {
        "colab": {
          "base_uri": "https://localhost:8080/",
          "height": 567
        },
        "id": "xnh2ym7C_eTW",
        "outputId": "b6a6fa6d-b647-4423-ba24-514d4254c205"
      },
      "source": [
        "df['Languages'] = df['Languages'].fillna('empty')\n",
        "lang = {}\n",
        "for i in df['Languages']:\n",
        "  j = i.split(', ')\n",
        "  for v in j:\n",
        "    if v not in lang:\n",
        "      lang[v] = 1\n",
        "    else:\n",
        "      lang[v] += 1\n",
        "\n",
        "k = dict(sorted(lang.items(),key=lambda x:x[1],reverse = True)[:10])\n",
        "del k['empty']\n",
        "keys = k.keys()\n",
        "values = k.values()\n",
        "plt.figure(figsize=(15,9))\n",
        "plt.bar(keys, values)\n",
        "plt.title('Number of movies in each language')\n",
        "plt.ylabel('Number of Movies')\n",
        "plt.xlabel('Language')\n",
        "plt.show()"
      ],
      "execution_count": 97,
      "outputs": [
        {
          "output_type": "display_data",
          "data": {
            "image/png": "[encoded data removed]",
            "text/plain": [
              "<Figure size 1080x648 with 1 Axes>"
            ]
          },
          "metadata": {
            "tags": [],
            "needs_background": "light"
          }
        }
      ]
    },
    {
      "cell_type": "markdown",
      "metadata": {
        "id": "ZQq6xA_IZ_In"
      },
      "source": [
        "## 7. Number of movies in each runtime:"
      ]
    },
    {
      "cell_type": "code",
      "metadata": {
        "colab": {
          "base_uri": "https://localhost:8080/",
          "height": 353
        },
        "id": "KaWSfXnyJGIE",
        "outputId": "a67305c0-baa8-413b-a66d-8bf0b02573f6"
      },
      "source": [
        "df['Runtime'].value_counts().plot(kind = 'bar')\n",
        "plt.title('Number of movies in each runtime')\n",
        "plt.ylabel('Number of Movies')\n",
        "plt.xlabel('Runtime')\n",
        "plt.show()"
      ],
      "execution_count": 99,
      "outputs": [
        {
          "output_type": "display_data",
          "data": {
            "image/png": "[encoded data removed]",
            "text/plain": [
              "<Figure size 432x288 with 1 Axes>"
            ]
          },
          "metadata": {
            "tags": [],
            "needs_background": "light"
          }
        }
      ]
    },
    {
      "cell_type": "markdown",
      "metadata": {
        "id": "FDexpKT9aYf6"
      },
      "source": [
        "## 8. Movies with good IMDB rating (above 7) that's released after 2019:"
      ]
    },
    {
      "cell_type": "code",
      "metadata": {
        "colab": {
          "base_uri": "https://localhost:8080/",
          "height": 585
        },
        "id": "jBP3XnBrJjl_",
        "outputId": "dde8758f-9583-4456-e84d-37f68f939b06"
      },
      "source": [
        "import datetime\n",
        "df['Release Date'] = pd.to_datetime(df['Release Date'])\n",
        "df2 = df[df['Release Date'].dt.year>=2019]\n",
        "df3 = df2[df2['IMDb Score']>7]\n",
        "df3.head(5)"
      ],
      "execution_count": 77,
      "outputs": [
        {
          "output_type": "execute_result",
          "data": {
            "text/html": [
              "<div>\n",
              "<style scoped>\n",
              "    .dataframe tbody tr th:only-of-type {\n",
              "        vertical-align: middle;\n",
              "    }\n",
              "\n",
              "    .dataframe tbody tr th {\n",
              "        vertical-align: top;\n",
              "    }\n",
              "\n",
              "    .dataframe thead th {\n",
              "        text-align: right;\n",
              "    }\n",
              "</style>\n",
              "<table border=\"1\" class=\"dataframe\">\n",
              "  <thead>\n",
              "    <tr style=\"text-align: right;\">\n",
              "      <th></th>\n",
              "      <th>Title</th>\n",
              "      <th>Genre</th>\n",
              "      <th>Languages</th>\n",
              "      <th>Series or Movie</th>\n",
              "      <th>Hidden Gem Score</th>\n",
              "      <th>Country Availability</th>\n",
              "      <th>Runtime</th>\n",
              "      <th>Director</th>\n",
              "      <th>Writer</th>\n",
              "      <th>Actors</th>\n",
              "      <th>View Rating</th>\n",
              "      <th>IMDb Score</th>\n",
              "      <th>Rotten Tomatoes Score</th>\n",
              "      <th>Metacritic Score</th>\n",
              "      <th>Awards Received</th>\n",
              "      <th>Awards Nominated For</th>\n",
              "      <th>Boxoffice</th>\n",
              "      <th>Release Date</th>\n",
              "      <th>Netflix Release Date</th>\n",
              "      <th>Production House</th>\n",
              "      <th>IMDb Votes</th>\n",
              "      <th>Overall Score</th>\n",
              "    </tr>\n",
              "  </thead>\n",
              "  <tbody>\n",
              "    <tr>\n",
              "      <th>5</th>\n",
              "      <td>The Con-Heartist</td>\n",
              "      <td>Comedy, Romance</td>\n",
              "      <td>Thai</td>\n",
              "      <td>Movie</td>\n",
              "      <td>8.6</td>\n",
              "      <td>Thailand</td>\n",
              "      <td>&gt; 2 hrs</td>\n",
              "      <td>Mez Tharatorn</td>\n",
              "      <td>Pattaranad Bhiboonsawade, Thodsapon Thiptinnak...</td>\n",
              "      <td>Thiti Mahayotaruk, Nadech Kugimiya, Kathaleeya...</td>\n",
              "      <td>NaN</td>\n",
              "      <td>7.4</td>\n",
              "      <td>NaN</td>\n",
              "      <td>NaN</td>\n",
              "      <td>NaN</td>\n",
              "      <td>NaN</td>\n",
              "      <td>NaN</td>\n",
              "      <td>2020-12-03</td>\n",
              "      <td>2021-03-03</td>\n",
              "      <td>NaN</td>\n",
              "      <td>131.0</td>\n",
              "      <td>NaN</td>\n",
              "    </tr>\n",
              "    <tr>\n",
              "      <th>15</th>\n",
              "      <td>Joker</td>\n",
              "      <td>Crime, Drama, Thriller</td>\n",
              "      <td>English</td>\n",
              "      <td>Movie</td>\n",
              "      <td>3.5</td>\n",
              "      <td>Lithuania,Poland,France,Italy,Spain,Greece,Bel...</td>\n",
              "      <td>1-2 hour</td>\n",
              "      <td>Todd Phillips</td>\n",
              "      <td>Scott Silver, Jerry Robinson, Todd Phillips, B...</td>\n",
              "      <td>Joaquin Phoenix, Zazie Beetz, Robert De Niro, ...</td>\n",
              "      <td>R</td>\n",
              "      <td>8.4</td>\n",
              "      <td>68.0</td>\n",
              "      <td>59.0</td>\n",
              "      <td>112.0</td>\n",
              "      <td>228.0</td>\n",
              "      <td>$335,451,311</td>\n",
              "      <td>2019-10-04</td>\n",
              "      <td>2021-03-03</td>\n",
              "      <td>Bron Studios, Creative Wealth Media Finance, D...</td>\n",
              "      <td>951938.0</td>\n",
              "      <td>138.9</td>\n",
              "    </tr>\n",
              "    <tr>\n",
              "      <th>26</th>\n",
              "      <td>Brave New World</td>\n",
              "      <td>Drama, Sci-Fi</td>\n",
              "      <td>English</td>\n",
              "      <td>Series</td>\n",
              "      <td>3.8</td>\n",
              "      <td>Poland,Czech Republic,Hungary,Slovakia,Romania...</td>\n",
              "      <td>&lt; 30 minutes</td>\n",
              "      <td>NaN</td>\n",
              "      <td>David Wiener, Brian Taylor, Grant Morrison</td>\n",
              "      <td>Nina Sosanya, Harry Lloyd, Jessica Brown Findl...</td>\n",
              "      <td>TV-MA</td>\n",
              "      <td>7.1</td>\n",
              "      <td>NaN</td>\n",
              "      <td>NaN</td>\n",
              "      <td>NaN</td>\n",
              "      <td>NaN</td>\n",
              "      <td>NaN</td>\n",
              "      <td>2020-07-15</td>\n",
              "      <td>2021-03-02</td>\n",
              "      <td>NaN</td>\n",
              "      <td>9408.0</td>\n",
              "      <td>NaN</td>\n",
              "    </tr>\n",
              "    <tr>\n",
              "      <th>40</th>\n",
              "      <td>Restart After Come Back Home</td>\n",
              "      <td>Drama, Romance</td>\n",
              "      <td>Japanese</td>\n",
              "      <td>Movie</td>\n",
              "      <td>8.6</td>\n",
              "      <td>Japan</td>\n",
              "      <td>1-2 hour</td>\n",
              "      <td>Ryûta Inoue</td>\n",
              "      <td>Kumiko Satô</td>\n",
              "      <td>Masahiro Kômoto, Yukijirô Hotaru, Eri Murakawa...</td>\n",
              "      <td>NaN</td>\n",
              "      <td>7.2</td>\n",
              "      <td>NaN</td>\n",
              "      <td>NaN</td>\n",
              "      <td>NaN</td>\n",
              "      <td>NaN</td>\n",
              "      <td>NaN</td>\n",
              "      <td>2020-09-04</td>\n",
              "      <td>2021-03-01</td>\n",
              "      <td>NaN</td>\n",
              "      <td>80.0</td>\n",
              "      <td>NaN</td>\n",
              "    </tr>\n",
              "    <tr>\n",
              "      <th>45</th>\n",
              "      <td>Years and Years</td>\n",
              "      <td>Drama, Sci-Fi</td>\n",
              "      <td>English</td>\n",
              "      <td>Series</td>\n",
              "      <td>4.2</td>\n",
              "      <td>Belgium</td>\n",
              "      <td>&lt; 30 minutes</td>\n",
              "      <td>NaN</td>\n",
              "      <td>Russell T. Davies</td>\n",
              "      <td>Anne Reid, T'Nia Miller, Rory Kinnear, Ruth Ma...</td>\n",
              "      <td>TV-MA</td>\n",
              "      <td>8.3</td>\n",
              "      <td>NaN</td>\n",
              "      <td>NaN</td>\n",
              "      <td>1.0</td>\n",
              "      <td>14.0</td>\n",
              "      <td>NaN</td>\n",
              "      <td>2019-06-24</td>\n",
              "      <td>2021-03-01</td>\n",
              "      <td>NaN</td>\n",
              "      <td>22324.0</td>\n",
              "      <td>NaN</td>\n",
              "    </tr>\n",
              "  </tbody>\n",
              "</table>\n",
              "</div>"
            ],
            "text/plain": [
              "                           Title  ... Overall Score\n",
              "5               The Con-Heartist  ...           NaN\n",
              "15                         Joker  ...         138.9\n",
              "26               Brave New World  ...           NaN\n",
              "40  Restart After Come Back Home  ...           NaN\n",
              "45               Years and Years  ...           NaN\n",
              "\n",
              "[5 rows x 22 columns]"
            ]
          },
          "metadata": {
            "tags": []
          },
          "execution_count": 77
        }
      ]
    },
    {
      "cell_type": "markdown",
      "metadata": {
        "id": "_ZdIO1zjegdq"
      },
      "source": [
        "## 9. Number of movies in each genre:"
      ]
    },
    {
      "cell_type": "code",
      "metadata": {
        "colab": {
          "base_uri": "https://localhost:8080/",
          "height": 567
        },
        "id": "THawFAUfLkVV",
        "outputId": "32bf630a-0326-4fdf-9010-c92c6bd16f98"
      },
      "source": [
        "df['Genre'] = df['Genre'].fillna('empty')\n",
        "genre = {}\n",
        "for i in df['Genre']:\n",
        "  j = i.split(', ')\n",
        "  for v in j:\n",
        "    if v not in genre:\n",
        "      genre[v] = 1\n",
        "    else:\n",
        "      genre[v] += 1\n",
        "\n",
        "k = dict(sorted(genre.items(),key=lambda x:x[1],reverse = True)[:10])\n",
        "keys = k.keys()\n",
        "values = k.values()\n",
        "plt.figure(figsize=(15,9))\n",
        "plt.bar(keys, values)\n",
        "plt.title('Number of movies in each genre')\n",
        "plt.ylabel('Number of Movies')\n",
        "plt.xlabel('Genre')\n",
        "plt.show()"
      ],
      "execution_count": 100,
      "outputs": [
        {
          "output_type": "display_data",
          "data": {
            "image/png": "[encoded data removed]",
            "text/plain": [
              "<Figure size 1080x648 with 1 Axes>"
            ]
          },
          "metadata": {
            "tags": [],
            "needs_background": "light"
          }
        }
      ]
    },
    {
      "cell_type": "markdown",
      "metadata": {
        "id": "b8ftS_BxekXw"
      },
      "source": [
        "## 10. Correlation between each rating:"
      ]
    },
    {
      "cell_type": "code",
      "metadata": {
        "id": "zH_6mQavLxDs"
      },
      "source": [
        "corr = df[['IMDb Score','Metacritic Score','Rotten Tomatoes Score','Hidden Gem Score']].corr()"
      ],
      "execution_count": 107,
      "outputs": []
    },
    {
      "cell_type": "code",
      "metadata": {
        "colab": {
          "base_uri": "https://localhost:8080/",
          "height": 390
        },
        "id": "ISNiEpO0Tn_W",
        "outputId": "8ec99718-d5f6-42ea-bf6b-bd651c34dfaf"
      },
      "source": [
        "mask = np.zeros_like(corr)\n",
        "mask[np.triu_indices_from(mask)] = True\n",
        "sns.heatmap(df[['IMDb Score','Metacritic Score','Rotten Tomatoes Score','Hidden Gem Score']].corr(),annot=True,cmap=\"YlGnBu\",mask=mask)"
      ],
      "execution_count": 108,
      "outputs": [
        {
          "output_type": "execute_result",
          "data": {
            "text/plain": [
              "<matplotlib.axes._subplots.AxesSubplot at 0x7fa0b35d2590>"
            ]
          },
          "metadata": {
            "tags": []
          },
          "execution_count": 108
        },
        {
          "output_type": "display_data",
          "data": {
            "image/png": "[encoded data removed]",
            "text/plain": [
              "<Figure size 432x288 with 2 Axes>"
            ]
          },
          "metadata": {
            "tags": [],
            "needs_background": "light"
          }
        }
      ]
    },
    {
      "cell_type": "markdown",
      "metadata": {
        "id": "JvSPvNXDervx"
      },
      "source": [
        "## 11. Popularity of movies based on votes:"
      ]
    },
    {
      "cell_type": "code",
      "metadata": {
        "id": "BrGb_xvnUXor",
        "colab": {
          "base_uri": "https://localhost:8080/",
          "height": 343
        },
        "outputId": "12fef69d-15b5-46b3-ec10-41b725b2166b"
      },
      "source": [
        "df[['Title','IMDb Votes']].sort_values(by='IMDb Votes',ascending=False).head(10)"
      ],
      "execution_count": 85,
      "outputs": [
        {
          "output_type": "execute_result",
          "data": {
            "text/html": [
              "<div>\n",
              "<style scoped>\n",
              "    .dataframe tbody tr th:only-of-type {\n",
              "        vertical-align: middle;\n",
              "    }\n",
              "\n",
              "    .dataframe tbody tr th {\n",
              "        vertical-align: top;\n",
              "    }\n",
              "\n",
              "    .dataframe thead th {\n",
              "        text-align: right;\n",
              "    }\n",
              "</style>\n",
              "<table border=\"1\" class=\"dataframe\">\n",
              "  <thead>\n",
              "    <tr style=\"text-align: right;\">\n",
              "      <th></th>\n",
              "      <th>Title</th>\n",
              "      <th>IMDb Votes</th>\n",
              "    </tr>\n",
              "  </thead>\n",
              "  <tbody>\n",
              "    <tr>\n",
              "      <th>14621</th>\n",
              "      <td>The Shawshank Redemption</td>\n",
              "      <td>2354197.0</td>\n",
              "    </tr>\n",
              "    <tr>\n",
              "      <th>14478</th>\n",
              "      <td>The Dark Knight</td>\n",
              "      <td>2308981.0</td>\n",
              "    </tr>\n",
              "    <tr>\n",
              "      <th>14331</th>\n",
              "      <td>Inception</td>\n",
              "      <td>2072912.0</td>\n",
              "    </tr>\n",
              "    <tr>\n",
              "      <th>15093</th>\n",
              "      <td>Pulp Fiction</td>\n",
              "      <td>1831004.0</td>\n",
              "    </tr>\n",
              "    <tr>\n",
              "      <th>864</th>\n",
              "      <td>Fiction.</td>\n",
              "      <td>1831004.0</td>\n",
              "    </tr>\n",
              "    <tr>\n",
              "      <th>14685</th>\n",
              "      <td>Forrest Gump</td>\n",
              "      <td>1814709.0</td>\n",
              "    </tr>\n",
              "    <tr>\n",
              "      <th>14290</th>\n",
              "      <td>The Matrix</td>\n",
              "      <td>1684368.0</td>\n",
              "    </tr>\n",
              "    <tr>\n",
              "      <th>14367</th>\n",
              "      <td>The Lord of the Rings: The Fellowship of the Ring</td>\n",
              "      <td>1664865.0</td>\n",
              "    </tr>\n",
              "    <tr>\n",
              "      <th>15119</th>\n",
              "      <td>The Lord of the Rings: The Return of the King</td>\n",
              "      <td>1645871.0</td>\n",
              "    </tr>\n",
              "    <tr>\n",
              "      <th>14696</th>\n",
              "      <td>The Godfather</td>\n",
              "      <td>1625286.0</td>\n",
              "    </tr>\n",
              "  </tbody>\n",
              "</table>\n",
              "</div>"
            ],
            "text/plain": [
              "                                                   Title  IMDb Votes\n",
              "14621                           The Shawshank Redemption   2354197.0\n",
              "14478                                    The Dark Knight   2308981.0\n",
              "14331                                          Inception   2072912.0\n",
              "15093                                       Pulp Fiction   1831004.0\n",
              "864                                             Fiction.   1831004.0\n",
              "14685                                       Forrest Gump   1814709.0\n",
              "14290                                         The Matrix   1684368.0\n",
              "14367  The Lord of the Rings: The Fellowship of the Ring   1664865.0\n",
              "15119      The Lord of the Rings: The Return of the King   1645871.0\n",
              "14696                                      The Godfather   1625286.0"
            ]
          },
          "metadata": {
            "tags": []
          },
          "execution_count": 85
        }
      ]
    }
  ]
}